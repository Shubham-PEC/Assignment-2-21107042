{
 "cells": [
  {
   "cell_type": "code",
   "execution_count": 28,
   "id": "94e9c305",
   "metadata": {},
   "outputs": [
    {
     "name": "stdout",
     "output_type": "stream",
     "text": [
      "35\n",
      "egaugnal evitisnes esac a si nohtyP\n",
      "a case sensitive\n",
      "Python is object oriented language\n",
      "10\n",
      "Pythonisacasesensitivelanguage\n"
     ]
    }
   ],
   "source": [
    "#Q1# For a given input string “Python is a case sensitive language”. Write python code for the following:\n",
    "input_str = \"Python is a case sensitive language\"\n",
    "\n",
    "#a. Find the length of the input string.\n",
    "print(len(input_str))\n",
    "\n",
    "#b. Reverse the order of the string in one line code.\n",
    "print(input_str[-1::-1])\n",
    "\n",
    "#c. Using Slice function store “a case sensitive” in new string.\n",
    "new_str = input_str[10:-9]\n",
    "print(new_str)\n",
    "\n",
    "#d. Replace “a case sensitive” with “object oriented”.\n",
    "new_str = input_str[0:10] + \"object oriented\" + input_str[-9:]\n",
    "print(new_str)\n",
    "\n",
    "#e. Find index of substring “a” in the given input string.\n",
    "index = input_str.find('a',)\n",
    "print(index)\n",
    "\n",
    "#f. Remove the white spaces from the given input string.\n",
    "input_str_1 = input_str.replace(\" \", \"\")\n",
    "print(input_str_1)"
   ]
  },
  {
   "cell_type": "code",
   "execution_count": 29,
   "id": "392b98ab",
   "metadata": {},
   "outputs": [
    {
     "name": "stdout",
     "output_type": "stream",
     "text": [
      "Hey, Shubham Here! \n",
      "My SID is 21107042\n",
      "I am from Mechanical Engineering department and my CGPA is 9.7\n"
     ]
    }
   ],
   "source": [
    "'''#Q2# Store your name, SID, department name and CGPA into different variables. With the help of String formatting print'''\n",
    "      # Hey, ABC Here!\n",
    "      # My SID is 2110XXXX\n",
    "      # I am from XYZ department and my CGPA is 9.9\n",
    "\n",
    "Name = \"Shubham\"\n",
    "SID = \"21107042\"\n",
    "Dept = \"Mechanical Engineering\"\n",
    "CGPA = \"9.7\"\n",
    "print(\"Hey, \" + Name + \" Here! \\nMy SID is \" + SID + \"\\nI am from \" + Dept + \" department and my CGPA is \" + CGPA)"
   ]
  },
  {
   "cell_type": "code",
   "execution_count": 30,
   "id": "26cf7652",
   "metadata": {},
   "outputs": [
    {
     "name": "stdout",
     "output_type": "stream",
     "text": [
      "8\n",
      "58\n",
      "50\n",
      "224\n",
      "40\n",
      "14\n",
      "0\n"
     ]
    }
   ],
   "source": [
    "'''#Q3# For a=56 and b=10 with the help of bitwise operators calculate the following:\n",
    "        a. a&b\n",
    "        b. a|b\n",
    "        c. a^b\n",
    "        d. Left shift both a and b with 2 bits.\n",
    "        e. Right shift a with 2 bits and b with 4 bits.'''\n",
    "\n",
    "a = 56\n",
    "b = 10\n",
    "print(a&b)\n",
    "print(a|b)\n",
    "print(a^b)\n",
    "print(a<<2)\n",
    "print(b<<2)\n",
    "print(a>>2)\n",
    "print(b>>4)"
   ]
  },
  {
   "cell_type": "code",
   "execution_count": 32,
   "id": "b3eb53db",
   "metadata": {},
   "outputs": [
    {
     "name": "stdout",
     "output_type": "stream",
     "text": [
      "Write any string/sentence here: My name is Anthony Gonsalves........Gonsalves!!\n",
      "Yes, 'name' is present in the string entered.\n"
     ]
    }
   ],
   "source": [
    "#Q4# Write a python program to check if the word “name” is present in the string entered by the user: \n",
    "   # (Print : “Yes” or “No”)\n",
    "\n",
    "string = str(input(\"Write any string/sentence here: \"))\n",
    "if \"name\" in string:\n",
    "    print(\"Yes, 'name' is present in the string entered.\")\n",
    "else:\n",
    "    print(\"No, 'name' is absent in the string entered.\")"
   ]
  },
  {
   "cell_type": "code",
   "execution_count": 34,
   "id": "e1e7f1a1",
   "metadata": {},
   "outputs": [
    {
     "name": "stdout",
     "output_type": "stream",
     "text": [
      "Write the length of first side of triangle here: 11\n",
      "Write the length of second side of triangle here: 12\n",
      "Write the length of third side of triangle here: 23\n",
      "No, these sides can't form a triangle.\n"
     ]
    }
   ],
   "source": [
    "'''#Q5# For any three lengths, there is a simple test to see if it is possible to form a triangle.\n",
    "        If any of the three lengths is greater than the sum of the other two, then you cannot form a triangle.\n",
    "        Otherwise, Enter three sides of a triangle, converts them to integers, and to check whether the given input \n",
    "        lengths can form a triangle or not (Print : “Yes” or “No”).[Don’t use if else here].'''\n",
    "\n",
    "p = int(input(\"Write the length of first side of triangle here: \"))\n",
    "q = int(input(\"Write the length of second side of triangle here: \"))\n",
    "r = int(input(\"Write the length of third side of triangle here: \"))\n",
    "while p+q>r and p+r>q and q+r>p and p>0 and q>0 and r>0 :\n",
    "    print(\"Yes, these sides can form a triangle.\")\n",
    "    break\n",
    "while p+q<=r or p+r<=q or q+r<=p or p<=0 or q<=0 or r<=0:\n",
    "    print(\"No, these sides can't form a triangle.\")\n",
    "    break"
   ]
  },
  {
   "cell_type": "code",
   "execution_count": 35,
   "id": "530e5256",
   "metadata": {},
   "outputs": [
    {
     "name": "stdout",
     "output_type": "stream",
     "text": [
      "Write the length of first side of triangle here: 11\n",
      "Write the length of second side of triangle here: 12\n",
      "Write the length of third side of triangle here: 23\n",
      "A triangle with above dimensions is possible: False\n"
     ]
    }
   ],
   "source": [
    "#Q5#################### Alternate Solution(without if/else), just that output is not in Yes/No ##########################\n",
    "\n",
    "p = int(input(\"Write the length of first side of triangle here: \"))\n",
    "q = int(input(\"Write the length of second side of triangle here: \"))\n",
    "r = int(input(\"Write the length of third side of triangle here: \"))\n",
    "x = bool(p+q>r and p+r>q and q+r>p and p>0 and q>0 and r>0)\n",
    "print(\"A triangle with above dimensions is possible:\", x)"
   ]
  },
  {
   "cell_type": "code",
   "execution_count": 38,
   "id": "5cbe9dc3",
   "metadata": {},
   "outputs": [
    {
     "name": "stdout",
     "output_type": "stream",
     "text": [
      "Write any integer here: 12\n",
      "Write any integer here: 32\n",
      "The number of bits needed to be flipped to convert 'num_1' to 'num_2' are: 3\n"
     ]
    }
   ],
   "source": [
    "#Q6# Given two numbers ‘a’ and b’. Write a program to count number of bits needed to be flipped to convert ‘a’ to ‘b’.\n",
    "\n",
    "num_1 = int(input(\"Write any integer here: \"))\n",
    "num_2 = int(input(\"Write any integer here: \"))\n",
    "xor = num_1^num_2\n",
    "check_str = str(bin(xor))\n",
    "print(\"The number of bits needed to be flipped to convert 'num_1' to 'num_2' are:\", check_str.count('1'))"
   ]
  }
 ],
 "metadata": {
  "kernelspec": {
   "display_name": "Python 3",
   "language": "python",
   "name": "python3"
  },
  "language_info": {
   "codemirror_mode": {
    "name": "ipython",
    "version": 3
   },
   "file_extension": ".py",
   "mimetype": "text/x-python",
   "name": "python",
   "nbconvert_exporter": "python",
   "pygments_lexer": "ipython3",
   "version": "3.8.8"
  }
 },
 "nbformat": 4,
 "nbformat_minor": 5
}
